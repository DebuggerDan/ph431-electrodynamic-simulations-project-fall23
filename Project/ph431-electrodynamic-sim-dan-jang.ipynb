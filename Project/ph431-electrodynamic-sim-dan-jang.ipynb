{
 "cells": [
  {
   "cell_type": "markdown",
   "metadata": {},
   "source": [
    "# **PH 431: *Exploration of Electrodynamic Simulations Project*** by Dan Jang"
   ]
  },
  {
   "cell_type": "markdown",
   "metadata": {},
   "source": [
    "## **Abstract**\n",
    "Based on concepts explored in *PH 431: Electricity & Magnetism I* and from our textbook, *Introduction to Electrodynamics* by David J. Griffiths [[1]](https://www.cambridge.org/highereducation/books/introduction-to-electrodynamics/3AB220820DBB628E5A43D52C4B011ED4#overview), we created a computational physics project based in Python for exploring the simulation of various electrodynamics phenomena, particularly in the modeling and visualization of *electromagnetic fields*, *potentials*, and *point charges*.\n",
    "\n",
    "Our exploration project was primarily based on a deconstructed, piece-by-piece implementation of these electrodynamics' topics in electromagnetism, where a *Python*-based, *Project Jupyter Notebook* [[2]](https://jupyter.org) was used to highlight particular parts & pieces of our project, with specific examples of electromagnetic phenomena and situations.\n",
    "\n",
    "Our project primarily features the *PyCharge* [[3]](http://arxiv.org/abs/2107.12437) and *PyGame* [[4]](https://www.pygame.org/wiki/about) libraries – as well as the implementation of other libraries and visual or mathematical methods of computational physics.\n",
    "\n",
    "The goal of our project was to help provide an elementary, or otherwise easy-to-under introduction to electromagnetism, particularly pertaining to the 3D representation of electromagnetic fields & potentials and moving point charges in those fields and potentials."
   ]
  },
  {
   "cell_type": "markdown",
   "metadata": {},
   "source": [
    "## Part 1: ***Initialization & Setup***"
   ]
  },
  {
   "cell_type": "code",
   "execution_count": null,
   "metadata": {},
   "outputs": [],
   "source": [
    "##### PH 431: Exploration of Electrodynamic Simulations Project by Dan J.\n",
    "#### Initialization of Project Libraries, Constants, & Jupyter Notebook"
   ]
  },
  {
   "cell_type": "markdown",
   "metadata": {},
   "source": [
    "## Part 2: ***Electric Fields***"
   ]
  },
  {
   "cell_type": "code",
   "execution_count": null,
   "metadata": {},
   "outputs": [],
   "source": [
    "##### PH 431: Exploration of Electrodynamic Simulations Project by Dan J.\n",
    "#### "
   ]
  },
  {
   "cell_type": "markdown",
   "metadata": {},
   "source": [
    "## Part 3: ***Electric Potentials***"
   ]
  },
  {
   "cell_type": "code",
   "execution_count": null,
   "metadata": {},
   "outputs": [],
   "source": [
    "##### PH 431: Exploration of Electrodynamic Simulations Project by Dan J.\n",
    "#### "
   ]
  },
  {
   "cell_type": "markdown",
   "metadata": {},
   "source": [
    "## Part 4: ***Point Charges***"
   ]
  },
  {
   "cell_type": "code",
   "execution_count": null,
   "metadata": {},
   "outputs": [],
   "source": [
    "##### PH 431: Exploration of Electrodynamic Simulations Project by Dan J.\n",
    "#### "
   ]
  },
  {
   "cell_type": "markdown",
   "metadata": {},
   "source": [
    "## References\n",
    "\n",
    "1.\tGriffiths DJ. Introduction to electrodynamics. 4 ed. Cambridge: Cambridge university press; 2017.\n",
    "2.\tProject Jupyter [Internet]. Available from: https://jupyter.org.\n",
    "3.\tFilipovich MJ, Hughes S. PyCharge: An open-source Python package for self-consistent electrodynamics simulations of Lo-rentz oscillators and moving point charges. Computer Physics Communications [Internet]. 2022 May;274:108291. Available from: http://arxiv.org/abs/2107.12437.\n",
    "4.\tAbout - pygame wiki [Internet]. Available from: https://www.pygame.org/wiki/about.\n"
   ]
  }
 ],
 "metadata": {
  "kernelspec": {
   "display_name": "Python 3",
   "language": "python",
   "name": "python3"
  },
  "language_info": {
   "name": "python",
   "version": "3.10.4"
  }
 },
 "nbformat": 4,
 "nbformat_minor": 2
}

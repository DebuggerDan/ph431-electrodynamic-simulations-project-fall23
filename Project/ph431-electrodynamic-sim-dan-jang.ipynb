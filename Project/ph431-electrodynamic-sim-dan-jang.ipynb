{
 "cells": [
  {
   "cell_type": "markdown",
   "metadata": {},
   "source": [
    "# **PH 431: *Exploration of Electrodynamic Simulations Project*** by Dan Jang"
   ]
  },
  {
   "cell_type": "markdown",
   "metadata": {},
   "source": [
    "## **Abstract**\n",
    "Based on concepts explored in *PH 431: Electricity & Magnetism I* and from our textbook, *Introduction to Electrodynamics* by David J. Griffiths [[1]](https://www.cambridge.org/highereducation/books/introduction-to-electrodynamics/3AB220820DBB628E5A43D52C4B011ED4#overview), we created a computational physics project based on *Python* for exploring the simulation of various electrodynamics phenomena, particularly in the modeling and visualization of *electric fields*, *potentials*, and *point charges*.\n",
    "\n",
    "Our exploration project was primarily based on a deconstructed, piece-by-piece implementation of these electrodynamics' topics in electromagnetism, where a *Python*-based, *Project Jupyter Notebook* [[2]](https://jupyter.org) was used to highlight particular parts & pieces of our project, with specific examples of electromagnetic phenomena and situations.\n",
    "\n",
    "Our project primarily features the *PyCharge* [[3]](http://arxiv.org/abs/2107.12437) and *PyGame* [[4]](https://www.pygame.org/wiki/about) libraries – as well as the implementation of other libraries and visual or mathematical methods of computational physics.\n",
    "\n",
    "The goal of our project was to help provide an elementary, or otherwise easy-to-under introduction to electromagnetism, particularly on the 3D representation of electric fields & potentials and moving point charges in those fields and potentials."
   ]
  },
  {
   "cell_type": "markdown",
   "metadata": {},
   "source": [
    "## Part 1: ***Initialization & Setup***"
   ]
  },
  {
   "cell_type": "code",
   "execution_count": 2,
   "metadata": {},
   "outputs": [
    {
     "name": "stdout",
     "output_type": "stream",
     "text": [
      "pygame 2.1.2 (SDL 2.0.18, Python 3.10.4)\n",
      "Hello from the pygame community. https://www.pygame.org/contribute.html\n"
     ]
    }
   ],
   "source": [
    "##### PH 431: Exploration of Electrodynamic Simulations Project by Dan J.\n",
    "#### Initialization of Project Libraries, Constants, & Jupyter Notebook\n",
    "\n",
    "import pygame as pgame\n",
    "import numpy as np\n",
    "#import math\n",
    "import pycharge as pc\n",
    "import sys\n",
    "import matplotlib as mplotlib\n",
    "import matplotlib.pyplot as plot\n",
    "import threading\n",
    "import tkinter as tk\n",
    "from tkinter import ttk\n",
    "from matplotlib import animation\n",
    "from matplotlib.backends.backend_tkagg import FigureCanvasTkAgg\n",
    "from matplotlib.figure import Figure\n",
    "from matplotlib.animation import FuncAnimation\n",
    "from ipywidgets import widgets as wd\n",
    "from ipywidgets import interactive\n",
    "from IPython.display import display, HTML\n"
   ]
  },
  {
   "cell_type": "markdown",
   "metadata": {},
   "source": [
    "## Part 2: ***Electric Fields***"
   ]
  },
  {
   "cell_type": "code",
   "execution_count": 2,
   "metadata": {},
   "outputs": [],
   "source": [
    "##### PH 431: Exploration of Electrodynamic Simulations Project by Dan J.\n",
    "#### Part 2 - Electric Field Simulation Demonstration\n",
    "\n",
    "## Initialize PyGame\n",
    "pgame.init()\n",
    "\n",
    "## Dimensional & Physical Constants\n",
    "w, h = 1000, 1000\n",
    "q_radius = 10\n",
    "K = 8.99e9 #N * m^2 / C^2 (Coulomb's Constant)\n",
    "\n",
    "## Color Constants\n",
    "black_color = (47, 47, 56)\n",
    "white_color = (255, 255, 255)\n",
    "red_color = (255, 62, 62)\n",
    "blue_color = (62, 62, 255)\n",
    "\n",
    "## Defining point charges as a class\n",
    "class PointCharge:\n",
    "    \n",
    "    def __init__(self, position, charge):\n",
    "        \n",
    "        self.position = position\n",
    "        self.charge = charge\n",
    "    \n",
    "    def point(self, screen):\n",
    "        \n",
    "        color = red_color if self.charge > 0 else blue_color\n",
    "        pgame.draw.circle(screen, color, self.position, q_radius)\n",
    "        \n",
    "## Electric field function for calculating the electric field line vectors at a given point charge due to its charge\n",
    "def e_field(point_charge, point):\n",
    "    \n",
    "    q = point_charge.charge\n",
    "    r_vector = np.array(point) - np.array(point_charge.position)\n",
    "    r_magnitude = np.linalg.norm(r_vector)\n",
    "    \n",
    "    if r_magnitude == 0:\n",
    "        return np.array([0, 0])\n",
    "    \n",
    "    r_carot = (r_vector / r_magnitude)\n",
    "    e_vector = (K * q / r_magnitude ** 2) * r_carot\n",
    "    \n",
    "    return e_vector\n",
    "\n",
    "## Initialize the PyGame Demo Window for Part 2: Electric Field Simulation\n",
    "efield_demo = pgame.display.set_mode((w, h))\n",
    "pgame.display.set_caption(\"PH 431: Part 2 - Electric Field Simulation\")\n",
    "\n",
    "## Main Function for Part 2: Electric Field Simulation\n",
    "pointcharges = []\n",
    "state = True\n",
    "\n",
    "while state:\n",
    "    efield_demo.fill(white_color)\n",
    "    \n",
    "    # Main simulation loop for event-handling\n",
    "    for event in pgame.event.get():\n",
    "        if event.type == pgame.QUIT:\n",
    "            state = False\n",
    "            \n",
    "        # If the user presses either the left or right mouse buttonz\n",
    "        elif event.type == pgame.MOUSEBUTTONDOWN:\n",
    "            position = pgame.mouse.get_pos()\n",
    "            \n",
    "            # Left-click, add positive point charge\n",
    "            if event.button == 1:\n",
    "                pointcharges.append(PointCharge(position, 1e-9))\n",
    "                \n",
    "            # Right-click, add negative point charge\n",
    "            elif event.button == 3:\n",
    "                pointcharges.append(PointCharge(position, -1e-9))\n",
    "            \n",
    "    # Loop for drawing the point charges\n",
    "    for p in pointcharges:\n",
    "        p.point(efield_demo)\n",
    "        \n",
    "    # Calculating & drawing out the electric field line-vectors\n",
    "    for y in range(0, h, 20):\n",
    "        for x in range(0, w, 20):\n",
    "            total_e = np.array([0.0, 0.0])\n",
    "            \n",
    "            for c in pointcharges:\n",
    "                total_e += e_field(c, (x, y))\n",
    "            \n",
    "            e_magnitude = np.linalg.norm(total_e)\n",
    "            if e_magnitude > 0:\n",
    "                e_direction = total_e / e_magnitude\n",
    "                e_position = (x + int(e_direction[0] * 10), y + int(e_direction[1] * 10))\n",
    "                pgame.draw.line(efield_demo, black_color, (x, y), e_position)\n",
    "    \n",
    "    # After drawing the electric field line-vectors, update the display\n",
    "    pgame.display.flip()\n",
    "\n",
    "# End simulation\n",
    "pgame.quit()\n"
   ]
  },
  {
   "cell_type": "markdown",
   "metadata": {},
   "source": [
    "## Part 3: ***Electric Potentials***"
   ]
  },
  {
   "cell_type": "code",
   "execution_count": 13,
   "metadata": {},
   "outputs": [
    {
     "data": {
      "application/vnd.jupyter.widget-view+json": {
       "model_id": "952698d19095430996617affb28f37f3",
       "version_major": 2,
       "version_minor": 0
      },
      "text/plain": [
       "VBox(children=(HBox(children=(FloatText(value=1e-09, description='Charge Value (C):', step=1e-09), FloatSlider…"
      ]
     },
     "execution_count": 13,
     "metadata": {},
     "output_type": "execute_result"
    },
    {
     "data": {
      "image/png": "[encoded data removed]",
      "text/plain": [
       "<Figure size 500x500 with 2 Axes>"
      ]
     },
     "metadata": {},
     "output_type": "display_data"
    },
    {
     "data": {
      "image/png": "[encoded data removed]",
      "text/plain": [
       "<Figure size 500x500 with 2 Axes>"
      ]
     },
     "metadata": {},
     "output_type": "display_data"
    }
   ],
   "source": [
    "##### PH 431: Exploration of Electrodynamic Simulations Project by Dan J.\n",
    "#### Part 3 - Electric Potentials\n",
    "\n",
    "## Physical Constants & Arrays\n",
    "K = 8.99e9 #N * m^2 / C^2 (Coulomb's Constant)\n",
    "pointcharges = []\n",
    "positions = []\n",
    "\n",
    "## Widgets for user-input of point charges' positions & charge-values\n",
    "charge_val = wd.FloatText(value=1e-9, description='Charge Value (C):', step=1e-9)\n",
    "\n",
    "charge_xpos = wd.FloatSlider(min=0, max=10, step=0.1, description='X-position')\n",
    "charge_ypos = wd.FloatSlider(min=0, max=10, step=0.1, description='Y-position')\n",
    "\n",
    "new_pointcharge_button = wd.Button(description='Add le Point Charge')\n",
    "reset_pointcharges_button = wd.Button(description='Reset')\n",
    "\n",
    "output = wd.Output()\n",
    "\n",
    "### Helper Functions for Widgets\n",
    "## Function for a new point charge\n",
    "def new_pcharge(_):\n",
    "    \n",
    "    with output:\n",
    "        if len(pointcharges) < 2:\n",
    "            pcharge = charge_val.value\n",
    "            position = (charge_xpos.value, charge_ypos.value)\n",
    "            pointcharges.append(pcharge)\n",
    "            positions.append(position)\n",
    "            refresh()\n",
    "            \n",
    "        else:\n",
    "            print(\"Whoopsie, looks like there are already two point charges placed - please click reset to add new point charges!\")\n",
    "\n",
    "## Function for resetting the point charges\n",
    "def reset_pcharges(_):\n",
    "    \n",
    "    global pointcharges, positions\n",
    "    \n",
    "    with output:\n",
    "        pointcharges = []\n",
    "        positions = []\n",
    "        \n",
    "        refresh()\n",
    "\n",
    "## Refreshing function for the displayed plot\n",
    "def refresh():\n",
    "    \n",
    "    output.clear_output(wait=True)\n",
    "    figure, ax = plot.subplots(figsize=(5, 5))\n",
    "    \n",
    "    x = np.linspace(0, 10, 100)\n",
    "    y = np.linspace(0, 10, 100)\n",
    "    X, Y = np.meshgrid(x, y)\n",
    "    V = np.zeros_like(X)\n",
    "    \n",
    "    for pc, p in zip(pointcharges, positions):\n",
    "        r = np.sqrt((X - p[0]) ** 2 + (Y - p[1]) ** 2)\n",
    "        V += K * pc / r\n",
    "        \n",
    "    fieldmap = ax.contourf(X, Y, V, levels=50, cmap='RdBu_r')\n",
    "    plot.colorbar(fieldmap, ax=ax, label='Electric Potential (V)')\n",
    "    \n",
    "    for pc, p in zip(pointcharges, positions):\n",
    "        ax.plot(p[0], p[1], 'bo' if pc > 0 else 'ro')\n",
    "        #pcharge_txt = f'{pc:.2e} V'\n",
    "        if pc > 0:\n",
    "            ax.text(p[0], p[1], f'{pc:.2e} V [positive charge]', color='black')\n",
    "        else:\n",
    "            ax.text(p[0], p[1], f'{pc:.2e} V [negative charge]', color='black')\n",
    "    \n",
    "    with output:\n",
    "        display(figure)\n",
    "\n",
    "## Widget button mapping\n",
    "new_pointcharge_button.on_click(new_pcharge)\n",
    "reset_pointcharges_button.on_click(reset_pcharges)\n",
    "\n",
    "## Display le widgetz\n",
    "wd.VBox([wd.HBox([charge_val, charge_xpos, charge_ypos]),\n",
    "         wd.HBox([new_pointcharge_button, reset_pointcharges_button]),\n",
    "         output])\n"
   ]
  },
  {
   "cell_type": "markdown",
   "metadata": {},
   "source": [
    "## Part 4: ***Point Charges***"
   ]
  },
  {
   "cell_type": "code",
   "execution_count": 2,
   "metadata": {},
   "outputs": [
    {
     "data": {
      "application/vnd.jupyter.widget-view+json": {
       "model_id": "f5ec724e578d44a08c9178194787c04f",
       "version_major": 2,
       "version_minor": 0
      },
      "text/plain": [
       "FloatSlider(value=2e-09, description='Amplitude (m):', max=5e-09, min=1e-09, step=1e-10)"
      ]
     },
     "metadata": {},
     "output_type": "display_data"
    },
    {
     "data": {
      "application/vnd.jupyter.widget-view+json": {
       "model_id": "1113f0ca2fdd42e4b42bfc703426862d",
       "version_major": 2,
       "version_minor": 0
      },
      "text/plain": [
       "FloatSlider(value=7.49e+16, description='Omega (rad/s):', max=1e+17, min=1e+16, step=1000000000000000.0)"
      ]
     },
     "metadata": {},
     "output_type": "display_data"
    },
    {
     "data": {
      "application/vnd.jupyter.widget-view+json": {
       "model_id": "3a23a06eb4264b7fb4762b99125c3422",
       "version_major": 2,
       "version_minor": 0
      },
      "text/plain": [
       "FloatSlider(value=1e-19, description='Charge (C):', max=1e-18, min=1e-20, step=1e-20)"
      ]
     },
     "metadata": {},
     "output_type": "display_data"
    },
    {
     "data": {
      "application/vnd.jupyter.widget-view+json": {
       "model_id": "302c60e5c2b14fa3b4afc11aff7a6f06",
       "version_major": 2,
       "version_minor": 0
      },
      "text/plain": [
       "Button(description='Create Animation', style=ButtonStyle())"
      ]
     },
     "metadata": {},
     "output_type": "display_data"
    },
    {
     "ename": "NameError",
     "evalue": "name 'mpl' is not defined",
     "output_type": "error",
     "traceback": [
      "\u001b[1;31m---------------------------------------------------------------------------\u001b[0m",
      "\u001b[1;31mNameError\u001b[0m                                 Traceback (most recent call last)",
      "\u001b[1;32mc:\\Users\\Dan\\iCloudDrive\\Academia\\PSU\\Science\\PH 431 - Electricity & Magnetism I\\GitHub\\Project\\ph431-electrodynamic-sim-dan-jang.ipynb Cell 10\u001b[0m line \u001b[0;36m8\n\u001b[0;32m     <a href='vscode-notebook-cell:/c%3A/Users/Dan/iCloudDrive/Academia/PSU/Science/PH%20431%20-%20Electricity%20%26%20Magnetism%20I/GitHub/Project/ph431-electrodynamic-sim-dan-jang.ipynb#W5sZmlsZQ%3D%3D?line=80'>81</a>\u001b[0m \u001b[39mdef\u001b[39;00m \u001b[39mon_button_clicked\u001b[39m(b):\n\u001b[1;32m---> <a href='vscode-notebook-cell:/c%3A/Users/Dan/iCloudDrive/Academia/PSU/Science/PH%20431%20-%20Electricity%20%26%20Magnetism%20I/GitHub/Project/ph431-electrodynamic-sim-dan-jang.ipynb#W5sZmlsZQ%3D%3D?line=81'>82</a>\u001b[0m     ani \u001b[39m=\u001b[39m create_animation(amplitude_slider\u001b[39m.\u001b[39;49mvalue, omega_slider\u001b[39m.\u001b[39;49mvalue, charge_slider\u001b[39m.\u001b[39;49mvalue)\n\u001b[0;32m     <a href='vscode-notebook-cell:/c%3A/Users/Dan/iCloudDrive/Academia/PSU/Science/PH%20431%20-%20Electricity%20%26%20Magnetism%20I/GitHub/Project/ph431-electrodynamic-sim-dan-jang.ipynb#W5sZmlsZQ%3D%3D?line=82'>83</a>\u001b[0m     display(ani\u001b[39m.\u001b[39mto_jshtml())\n",
      "\u001b[1;32mc:\\Users\\Dan\\iCloudDrive\\Academia\\PSU\\Science\\PH 431 - Electricity & Magnetism I\\GitHub\\Project\\ph431-electrodynamic-sim-dan-jang.ipynb Cell 10\u001b[0m line \u001b[0;36m3\n\u001b[0;32m     <a href='vscode-notebook-cell:/c%3A/Users/Dan/iCloudDrive/Academia/PSU/Science/PH%20431%20-%20Electricity%20%26%20Magnetism%20I/GitHub/Project/ph431-electrodynamic-sim-dan-jang.ipynb#W5sZmlsZQ%3D%3D?line=29'>30</a>\u001b[0m ax\u001b[39m.\u001b[39mset_xticks([])\n\u001b[0;32m     <a href='vscode-notebook-cell:/c%3A/Users/Dan/iCloudDrive/Academia/PSU/Science/PH%20431%20-%20Electricity%20%26%20Magnetism%20I/GitHub/Project/ph431-electrodynamic-sim-dan-jang.ipynb#W5sZmlsZQ%3D%3D?line=30'>31</a>\u001b[0m ax\u001b[39m.\u001b[39mset_yticks([])\n\u001b[1;32m---> <a href='vscode-notebook-cell:/c%3A/Users/Dan/iCloudDrive/Academia/PSU/Science/PH%20431%20-%20Electricity%20%26%20Magnetism%20I/GitHub/Project/ph431-electrodynamic-sim-dan-jang.ipynb#W5sZmlsZQ%3D%3D?line=31'>32</a>\u001b[0m im\u001b[39m.\u001b[39mset_norm(mpl\u001b[39m.\u001b[39mcolors\u001b[39m.\u001b[39mLogNorm(vmin\u001b[39m=\u001b[39m\u001b[39m1e5\u001b[39m, vmax\u001b[39m=\u001b[39m\u001b[39m1e8\u001b[39m))\n\u001b[0;32m     <a href='vscode-notebook-cell:/c%3A/Users/Dan/iCloudDrive/Academia/PSU/Science/PH%20431%20-%20Electricity%20%26%20Magnetism%20I/GitHub/Project/ph431-electrodynamic-sim-dan-jang.ipynb#W5sZmlsZQ%3D%3D?line=33'>34</a>\u001b[0m \u001b[39m# Quiver plot\u001b[39;00m\n\u001b[0;32m     <a href='vscode-notebook-cell:/c%3A/Users/Dan/iCloudDrive/Academia/PSU/Science/PH%20431%20-%20Electricity%20%26%20Magnetism%20I/GitHub/Project/ph431-electrodynamic-sim-dan-jang.ipynb#W5sZmlsZQ%3D%3D?line=34'>35</a>\u001b[0m grid_size_quiver \u001b[39m=\u001b[39m \u001b[39m17\u001b[39m\n",
      "\u001b[1;31mNameError\u001b[0m: name 'mpl' is not defined"
     ]
    },
    {
     "data": {
      "image/png": "[encoded data removed]",
      "text/plain": [
       "<Figure size 500x500 with 1 Axes>"
      ]
     },
     "metadata": {},
     "output_type": "display_data"
    }
   ],
   "source": [
    "##### PH 431: Exploration of Electrodynamic Simulations Project by Dan J.\n",
    "#### Part 4 - Point Charges\n",
    "\n"
   ]
  },
  {
   "cell_type": "markdown",
   "metadata": {},
   "source": [
    "## Part 5: ***Full GUI-Encapsulated Project Program***"
   ]
  },
  {
   "cell_type": "code",
   "execution_count": null,
   "metadata": {},
   "outputs": [],
   "source": [
    "##### PH 431: Exploration of Electrodynamic Simulations Project by Dan J.\n",
    "#### Part 5 - Full GUI Project-Program\n"
   ]
  },
  {
   "cell_type": "markdown",
   "metadata": {},
   "source": [
    "## References\n",
    "\n",
    "1.\tGriffiths DJ. Introduction to electrodynamics. 4 ed. Cambridge: Cambridge university press; 2017.\n",
    "2.\tProject Jupyter [Internet]. Available from: https://jupyter.org.\n",
    "3.\tFilipovich MJ, Hughes S. PyCharge: An open-source Python package for self-consistent electrodynamics simulations of Lo-rentz oscillators and moving point charges. Computer Physics Communications [Internet]. 2022 May; 274:108291. Available from: http://arxiv.org/abs/2107.12437.\n",
    "4.\tAbout - PyGame wiki [Internet]. Available from: https://www.pygame.org/wiki/about.\n",
    "5.\tMitolo M, Araneo R. A Brief History of Electromagnetism [History]. IEEE Industry Applications Magazine [Internet]. 2019 Mar; 25(2):7–11. Available from: https://ieeexplore.ieee.org/abstract/document/8638875?casa_token=wNzBgMvG80kAAAAA:vcw_uNHEJVPtTypA1gnxE21Lerm3muFOhgjIHRTaUuwB8d0LQEQDHm_0AsI0aVrBM-HI6F2V4w.\n",
    "6.\tChen Z, Wang CF, Hoefer WJR. A Unified View of Computational Electromagnetics. IEEE Transactions on Microwave Theory and Techniques [Internet]. 2022 Feb; 70(2):955–69. Available from: https://ieeexplore.ieee.org/abstract/document/9682427.\n",
    "7.\tPhysics LibreTexts [Internet]. 2016. 5.4: Coulomb’s Law. Available from: https://phys.libretexts.org/Bookshelves/University_Physics/Book%3A_University_Physics_(OpenStax)/Book%3A_University_Physics_II_-_Thermodynamics_Electricity_and_Magnetism_(OpenStax)/05%3A_Electric_Charges_and_Fields/5.04%3A_Coulomb's_Law.\n",
    "8.\tQuantum Particle Golf [Internet]. 2011 July 26. Available from: https://www.pygame.org/project/1949.\n",
    "9.\tPython documentation [Internet]. tkinter — Python interface to Tcl/Tk. Available from: https://docs.python.org/3/library/tkinter.html.\n",
    "10.\tTeam JD. ipywidgets: Jupyter interactive widgets [Internet]. Available from: http://jupyter.org.\n",
    "11.\tJupyter and the future of IPython — IPython [Internet]. Available from: https://ipython.org.\n",
    "\n",
    "## Credits\n",
    "Special thanks to *GitHub Copilot* and *GPT* for assistance with code implementation & troubleshooting.\n"
   ]
  }
 ],
 "metadata": {
  "kernelspec": {
   "display_name": "Python 3",
   "language": "python",
   "name": "python3"
  },
  "language_info": {
   "codemirror_mode": {
    "name": "ipython",
    "version": 3
   },
   "file_extension": ".py",
   "mimetype": "text/x-python",
   "name": "python",
   "nbconvert_exporter": "python",
   "pygments_lexer": "ipython3",
   "version": "3.10.4"
  }
 },
 "nbformat": 4,
 "nbformat_minor": 2
}
